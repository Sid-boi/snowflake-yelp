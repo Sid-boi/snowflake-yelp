{
 "cells": [
  {
   "cell_type": "code",
   "execution_count": 1,
   "id": "5f720fb4",
   "metadata": {},
   "outputs": [],
   "source": [
    "import pandas as pd"
   ]
  },
  {
   "cell_type": "code",
   "execution_count": 3,
   "id": "917762d4",
   "metadata": {},
   "outputs": [],
   "source": [
    "import json"
   ]
  },
  {
   "cell_type": "code",
   "execution_count": 4,
   "id": "a4ea69dd",
   "metadata": {},
   "outputs": [
    {
     "name": "stdout",
     "output_type": "stream",
     "text": [
      "Total lines: 6990280, Lines per file: 699028\n",
      "✅ JSON file successfully split into smaller parts!\n"
     ]
    }
   ],
   "source": [
    "input_file = \"yelp_academic_dataset_review.json\"  # Your 5GB JSON file\n",
    "output_prefix = \"split_file_\"  # Prefix for output files\n",
    "num_files = 10  # Number of files to split into\n",
    "\n",
    "# Count total lines (objects) in the file\n",
    "with open(input_file, \"r\" , encoding=\"utf8\") as f:\n",
    "    total_lines = sum(1 for _ in f)  \n",
    "\n",
    "lines_per_file = total_lines // num_files  # Lines per split file\n",
    "\n",
    "print(f\"Total lines: {total_lines}, Lines per file: {lines_per_file}\")\n",
    "\n",
    "# Now split into multiple smaller files\n",
    "with open(input_file, \"r\" , encoding=\"utf8\") as f:\n",
    "    for i in range(num_files):\n",
    "        output_filename = f\"{output_prefix}{i+1}.json\"\n",
    "        \n",
    "        with open(output_filename, \"w\", encoding=\"utf8\" ) as out_file:\n",
    "            for j in range(lines_per_file):\n",
    "                line = f.readline()\n",
    "                if not line:\n",
    "                    break  # Stop if file ends early\n",
    "                out_file.write(line)\n",
    "\n",
    "print(\"✅ JSON file successfully split into smaller parts!\")"
   ]
  },
  {
   "cell_type": "code",
   "execution_count": 5,
   "id": "04e51e97",
   "metadata": {},
   "outputs": [],
   "source": [
    "import boto3"
   ]
  },
  {
   "cell_type": "code",
   "execution_count": 6,
   "id": "3c37c467",
   "metadata": {},
   "outputs": [],
   "source": []
  },
  {
   "cell_type": "code",
   "execution_count": 7,
   "id": "12cd9284",
   "metadata": {},
   "outputs": [
    {
     "data": {
      "text/plain": [
       "{'ResponseMetadata': {'RequestId': '15BA5VHMDYEHFNE1',\n",
       "  'HostId': 'uOxH0rcFM529T7fnk/BM3YzU915fTPppm8Mbm4yhymFKbtDo1HU87yueOdgYh9NQSC2llqOn7qqEOaCn4VjgOXE7MslbFN06',\n",
       "  'HTTPStatusCode': 200,\n",
       "  'HTTPHeaders': {'x-amz-id-2': 'uOxH0rcFM529T7fnk/BM3YzU915fTPppm8Mbm4yhymFKbtDo1HU87yueOdgYh9NQSC2llqOn7qqEOaCn4VjgOXE7MslbFN06',\n",
       "   'x-amz-request-id': '15BA5VHMDYEHFNE1',\n",
       "   'date': 'Sun, 23 Mar 2025 05:33:00 GMT',\n",
       "   'content-type': 'application/xml',\n",
       "   'transfer-encoding': 'chunked',\n",
       "   'server': 'AmazonS3'},\n",
       "  'RetryAttempts': 0},\n",
       " 'Buckets': [{'Name': 'anurag-glue-tutorial-bucket',\n",
       "   'CreationDate': datetime.datetime(2024, 8, 29, 7, 58, 26, tzinfo=tzutc())},\n",
       "  {'Name': 'aws-glue-assets-999837985148-us-east-1',\n",
       "   'CreationDate': datetime.datetime(2024, 8, 29, 10, 1, 5, tzinfo=tzutc())},\n",
       "  {'Name': 'msk-data-for-aws1',\n",
       "   'CreationDate': datetime.datetime(2024, 10, 9, 10, 11, 51, tzinfo=tzutc())},\n",
       "  {'Name': 'namastesqlsid',\n",
       "   'CreationDate': datetime.datetime(2024, 12, 21, 5, 44, 48, tzinfo=tzutc())},\n",
       "  {'Name': 'sid-databricks-project1',\n",
       "   'CreationDate': datetime.datetime(2024, 10, 27, 5, 35, 9, tzinfo=tzutc())},\n",
       "  {'Name': 'siddhant-demo-s3',\n",
       "   'CreationDate': datetime.datetime(2024, 1, 14, 11, 12, 47, tzinfo=tzutc())}],\n",
       " 'Owner': {'DisplayName': 'sidnayak12345',\n",
       "  'ID': '6a3b04380c4ada5557b6e325be540e688fbab52102e9fd1b30b893ab9be61baa'}}"
      ]
     },
     "execution_count": 7,
     "metadata": {},
     "output_type": "execute_result"
    }
   ],
   "source": [
    "s3_client.list_buckets()"
   ]
  },
  {
   "cell_type": "code",
   "execution_count": 8,
   "id": "f7d63d25",
   "metadata": {},
   "outputs": [],
   "source": [
    "import glob"
   ]
  },
  {
   "cell_type": "code",
   "execution_count": 10,
   "id": "12465c7c",
   "metadata": {},
   "outputs": [
    {
     "name": "stdout",
     "output_type": "stream",
     "text": [
      "split_file_1.json\n",
      "split_file_10.json\n",
      "split_file_2.json\n",
      "split_file_3.json\n",
      "split_file_4.json\n",
      "split_file_5.json\n",
      "split_file_6.json\n",
      "split_file_7.json\n",
      "split_file_8.json\n",
      "split_file_9.json\n"
     ]
    }
   ],
   "source": [
    "for json_file in glob.glob('split*json'):\n",
    "    print(json_file)\n",
    "    s3_client.upload_file(json_file,'namastesqlsid',f'yelp_project/{json_file}')"
   ]
  },
  {
   "cell_type": "code",
   "execution_count": null,
   "id": "3d667cdf",
   "metadata": {},
   "outputs": [],
   "source": []
  }
 ],
 "metadata": {
  "kernelspec": {
   "display_name": "Python 3 (ipykernel)",
   "language": "python",
   "name": "python3"
  },
  "language_info": {
   "codemirror_mode": {
    "name": "ipython",
    "version": 3
   },
   "file_extension": ".py",
   "mimetype": "text/x-python",
   "name": "python",
   "nbconvert_exporter": "python",
   "pygments_lexer": "ipython3",
   "version": "3.9.13"
  }
 },
 "nbformat": 4,
 "nbformat_minor": 5
}
